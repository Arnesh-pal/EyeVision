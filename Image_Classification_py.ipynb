{
  "nbformat": 4,
  "nbformat_minor": 0,
  "metadata": {
    "colab": {
      "provenance": []
    },
    "kernelspec": {
      "name": "python3",
      "display_name": "Python 3"
    },
    "language_info": {
      "name": "python"
    }
  },
  "cells": [
    {
      "cell_type": "code",
      "source": [
        "import os\n",
        "import numpy as np\n",
        "from sklearn.model_selection import train_test_split\n",
        "from torchvision.datasets import ImageFolder\n",
        "from torchvision.transforms import transforms\n",
        "import torch\n",
        "from torch.utils.data import DataLoader\n",
        "\n",
        "# Set up the transforms\n",
        "data_transforms = transforms.Compose([\n",
        "    transforms.Resize((224, 224)),\n",
        "    transforms.ToTensor(),\n",
        "    transforms.Normalize(mean=[0.5, 0.5, 0.5], std=[0.5, 0.5, 0.5])\n",
        "])\n",
        "\n",
        "# Load the dataset using ImageFolder\n",
        "root_dir = '/content/drive/MyDrive/dataset/train'\n",
        "dataset = ImageFolder(root=root_dir, transform=data_transforms)\n",
        "\n",
        "# Split the dataset into training, validation, and testing sets\n",
        "X_train_val, X_test, y_train_val, y_test = train_test_split(dataset.imgs, dataset.targets, test_size=0.2, random_state=42)\n",
        "X_train, X_val, y_train, y_val = train_test_split(X_train_val, y_train_val, test_size=0.2, random_state=42)\n",
        "\n",
        "# Define the data loaders for each set\n",
        "train_loader = DataLoader(dataset=torch.utils.data.Subset(dataset, indices=[i for i in range(len(X_train))]),\n",
        "                          batch_size=32, shuffle=True)\n",
        "val_loader = DataLoader(dataset=torch.utils.data.Subset(dataset, indices=[i for i in range(len(X_val))]),\n",
        "                          batch_size=32, shuffle=False)\n",
        "test_loader = DataLoader(dataset=torch.utils.data.Subset(dataset, indices=[i for i in range(len(X_test))]),\n",
        "                          batch_size=32, shuffle=False)\n",
        "\n",
        "# Print the sizes of the splits\n",
        "print(f'Training set size: {len(X_train)}')\n",
        "print(f'Validation set size: {len(X_val)}')\n",
        "print(f'Testing set size: {len(X_test)}')"
      ],
      "metadata": {
        "colab": {
          "base_uri": "https://localhost:8080/"
        },
        "id": "I0H-gloIXPDT",
        "outputId": "6a6360b0-aff6-49a8-ffe6-e1a60b71698a"
      },
      "execution_count": null,
      "outputs": [
        {
          "output_type": "stream",
          "name": "stdout",
          "text": [
            "Training set size: 2700\n",
            "Validation set size: 676\n",
            "Testing set size: 844\n"
          ]
        }
      ]
    },
    {
      "cell_type": "code",
      "source": [
        "import torch\n",
        "import torch.nn as nn\n",
        "import torch.optim as optim\n",
        "from torchvision.datasets import ImageFolder\n",
        "from torchvision.transforms import transforms\n",
        "from torch.utils.data import DataLoader\n",
        "\n",
        "# Set up the transforms\n",
        "data_transforms = transforms.Compose([\n",
        "    transforms.Resize((224, 224)),\n",
        "    transforms.ToTensor(),\n",
        "    transforms.Normalize(mean=[0.5, 0.5, 0.5], std=[0.5, 0.5, 0.5])\n",
        "])\n",
        "\n",
        "# Load the dataset using ImageFolder\n",
        "root_dir = '/content/drive/MyDrive/dataset/train'\n",
        "dataset = ImageFolder(root=root_dir, transform=data_transforms)\n",
        "\n",
        "# Split the dataset into training, validation, and testing sets\n",
        "X_train_val, X_test, y_train_val, y_test = train_test_split(dataset.imgs, dataset.targets, test_size=0.2, random_state=42)\n",
        "X_train, X_val, y_train, y_val = train_test_split(X_train_val, y_train_val, test_size=0.2, random_state=42)\n",
        "\n",
        "# Define the data loaders for each set\n",
        "train_loader = DataLoader(dataset=torch.utils.data.Subset(dataset, indices=[i for i in range(len(X_train))]),\n",
        "                          batch_size=32, shuffle=True)\n",
        "val_loader = DataLoader(dataset=torch.utils.data.Subset(dataset, indices=[i for i in range(len(X_val))]),\n",
        "                          batch_size=32, shuffle=False)\n",
        "test_loader = DataLoader(dataset=torch.utils.data.Subset(dataset, indices=[i for i in range(len(X_test))]),\n",
        "                          batch_size=32, shuffle=False)\n",
        "\n",
        "# Define the CNN model\n",
        "class MyCNN(nn.Module):\n",
        "    def __init__(self):\n",
        "        super(MyCNN, self).__init__()\n",
        "        self.conv1 = nn.Conv2d(3, 16, kernel_size=3, padding=1)\n",
        "        self.pool1 = nn.MaxPool2d(kernel_size=2, stride=2)\n",
        "        self.conv2 = nn.Conv2d(16, 32, kernel_size=3, padding=1)\n",
        "        self.pool2 = nn.MaxPool2d(kernel_size=2, stride=2)\n",
        "        self.conv3 = nn.Conv2d(32, 64, kernel_size=3, padding=1)\n",
        "        self.pool3 = nn.MaxPool2d(kernel_size=2, stride=2)\n",
        "        self.fc1 = nn.Linear(64 * 28 * 28, 128)\n",
        "        self.fc2 = nn.Linear(128, 4)\n",
        "\n",
        "    def forward(self, x):\n",
        "        x = self.pool1(torch.relu(self.conv1(x)))\n",
        "        x = self.pool2(torch.relu(self.conv2(x)))\n",
        "        x = self.pool3(torch.relu(self.conv3(x)))\n",
        "        x = x.view(-1, 64 * 28 * 28)\n",
        "        x = torch.relu(self.fc1(x))\n",
        "        x = self.fc2(x)\n",
        "        return x\n",
        "\n",
        "# Instantiate the model and define the loss function and optimizer\n",
        "model = MyCNN()\n",
        "criterion = nn.CrossEntropyLoss()\n",
        "optimizer = optim.Adam(model.parameters(), lr=0.001)\n",
        "\n",
        "# Train the model\n",
        "num_epochs = 10\n",
        "for epoch in range(num_epochs):\n",
        "    for images, labels in train_loader:\n",
        "        optimizer.zero_grad()\n",
        "        outputs = model(images)\n",
        "        loss = criterion(outputs, labels)\n",
        "        loss.backward()\n",
        "        optimizer.step()\n",
        "\n",
        "# Evaluate the model on the test set\n",
        "correct = 0\n",
        "total = 0\n",
        "with torch.no_grad():\n",
        "    for images, labels in test_loader:\n",
        "        outputs = model(images)\n",
        "        _, predicted = torch.max(outputs.data, 1)\n",
        "        total += labels.size(0)\n",
        "        correct += (predicted == labels).sum().item()\n",
        "\n",
        "accuracy = 100 * correct / total\n",
        "print(f'Test accuracy: {accuracy:.2f}%')"
      ],
      "metadata": {
        "colab": {
          "base_uri": "https://localhost:8080/"
        },
        "id": "Ky_bTtGSbUqw",
        "outputId": "bef6771c-1750-42fe-ffda-0e4e4aa5cd95"
      },
      "execution_count": null,
      "outputs": [
        {
          "output_type": "stream",
          "name": "stdout",
          "text": [
            "Test accuracy: 93.36%\n"
          ]
        }
      ]
    },
    {
      "cell_type": "code",
      "source": [
        "from PIL import Image\n",
        "\n",
        "# Load an example image\n",
        "image_path = '/content/drive/MyDrive/dataset/train/cataract/103_left.jpg'\n",
        "image = Image.open(image_path)\n",
        "\n",
        "# Apply the transforms used during training to preprocess the image\n",
        "image = data_transforms(image)\n",
        "image = image.unsqueeze(0)\n",
        "\n",
        "# Pass the image through the model to obtain the predicted class\n",
        "with torch.no_grad():\n",
        "    output = model(image)\n",
        "    _, predicted = torch.max(output.data, 1)\n",
        "\n",
        "# Print the predicted class\n",
        "class_names = ['cataract', 'diabetic_retinopathy', 'glaucoma', 'normal']\n",
        "print(f'Predicted class: {class_names[predicted.item()]}')"
      ],
      "metadata": {
        "colab": {
          "base_uri": "https://localhost:8080/"
        },
        "id": "4CS9Zu0wnjeA",
        "outputId": "26c6f0e1-e8c4-4390-b062-a43405c594c3"
      },
      "execution_count": null,
      "outputs": [
        {
          "output_type": "stream",
          "name": "stdout",
          "text": [
            "Predicted class: cataract\n"
          ]
        }
      ]
    }
  ]
}