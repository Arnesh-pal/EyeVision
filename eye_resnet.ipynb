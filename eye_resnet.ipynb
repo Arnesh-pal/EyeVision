{
  "nbformat": 4,
  "nbformat_minor": 0,
  "metadata": {
    "colab": {
      "provenance": []
    },
    "kernelspec": {
      "name": "python3",
      "display_name": "Python 3"
    },
    "language_info": {
      "name": "python"
    }
  },
  "cells": [
    {
      "cell_type": "code",
      "execution_count": null,
      "metadata": {
        "colab": {
          "base_uri": "https://localhost:8080/"
        },
        "id": "wRC8T8vUam3N",
        "outputId": "61901c58-902e-4056-bebe-5bede5a19b31"
      },
      "outputs": [
        {
          "output_type": "stream",
          "name": "stdout",
          "text": [
            "Training set size: 2700\n",
            "Validation set size: 676\n",
            "Testing set size: 844\n"
          ]
        }
      ],
      "source": [
        "import os\n",
        "import torch\n",
        "import torch.nn as nn\n",
        "import torch.optim as optim\n",
        "from torchvision import models, transforms\n",
        "from torchvision.datasets import ImageFolder\n",
        "from torch.utils.data import DataLoader, Subset\n",
        "from sklearn.model_selection import train_test_split\n",
        "\n",
        "# Set device\n",
        "device = torch.device(\"cuda\" if torch.cuda.is_available() else \"cpu\")\n",
        "\n",
        "# Transforms (match what ResNet expects)\n",
        "data_transforms = transforms.Compose([\n",
        "    transforms.Resize((224, 224)),\n",
        "    transforms.ToTensor(),\n",
        "    transforms.Normalize(mean=[0.485, 0.456, 0.406],  # ImageNet mean\n",
        "                         std=[0.229, 0.224, 0.225])    # ImageNet std\n",
        "])\n",
        "\n",
        "# Load dataset using ImageFolder\n",
        "root_dir = '/content/drive/MyDrive/dataset/train'\n",
        "dataset = ImageFolder(root=root_dir, transform=data_transforms)\n",
        "\n",
        "# Stratified split based on labels\n",
        "targets = dataset.targets\n",
        "train_val_indices, test_indices = train_test_split(\n",
        "    list(range(len(dataset))), test_size=0.2, stratify=targets, random_state=42)\n",
        "train_indices, val_indices = train_test_split(\n",
        "    train_val_indices, test_size=0.2, stratify=[targets[i] for i in train_val_indices], random_state=42)\n",
        "\n",
        "# Create DataLoaders\n",
        "train_loader = DataLoader(Subset(dataset, train_indices), batch_size=32, shuffle=True)\n",
        "val_loader = DataLoader(Subset(dataset, val_indices), batch_size=32, shuffle=False)\n",
        "test_loader = DataLoader(Subset(dataset, test_indices), batch_size=32, shuffle=False)\n",
        "\n",
        "# Print sizes\n",
        "print(f\"Training set size: {len(train_indices)}\")\n",
        "print(f\"Validation set size: {len(val_indices)}\")\n",
        "print(f\"Testing set size: {len(test_indices)}\")\n"
      ]
    },
    {
      "cell_type": "code",
      "source": [
        "# Load pretrained ResNet50 model\n",
        "resnet = models.resnet50(pretrained=True)\n",
        "\n",
        "# Freeze all layers (optional: change this if you want fine-tuning)\n",
        "for param in resnet.parameters():\n",
        "    param.requires_grad = False\n",
        "\n",
        "# Modify the final fully connected layer\n",
        "num_ftrs = resnet.fc.in_features\n",
        "resnet.fc = nn.Linear(num_ftrs, 4)  # 4 output classes for your problem\n",
        "\n",
        "# Move model to device\n",
        "model = resnet.to(device)\n",
        "\n",
        "# Define loss function and optimizer\n",
        "criterion = nn.CrossEntropyLoss()\n",
        "optimizer = optim.Adam(model.fc.parameters(), lr=0.001)  # Only train the final layer\n"
      ],
      "metadata": {
        "colab": {
          "base_uri": "https://localhost:8080/"
        },
        "id": "JKu8po6dcGUR",
        "outputId": "1eac0cc5-0881-48ec-c755-86c41cf5f3e6"
      },
      "execution_count": null,
      "outputs": [
        {
          "output_type": "stream",
          "name": "stderr",
          "text": [
            "/usr/local/lib/python3.11/dist-packages/torchvision/models/_utils.py:208: UserWarning: The parameter 'pretrained' is deprecated since 0.13 and may be removed in the future, please use 'weights' instead.\n",
            "  warnings.warn(\n",
            "/usr/local/lib/python3.11/dist-packages/torchvision/models/_utils.py:223: UserWarning: Arguments other than a weight enum or `None` for 'weights' are deprecated since 0.13 and may be removed in the future. The current behavior is equivalent to passing `weights=ResNet50_Weights.IMAGENET1K_V1`. You can also use `weights=ResNet50_Weights.DEFAULT` to get the most up-to-date weights.\n",
            "  warnings.warn(msg)\n"
          ]
        }
      ]
    },
    {
      "cell_type": "code",
      "source": [
        "from tqdm import tqdm  # for progress bars\n",
        "import torch\n",
        "\n",
        "# Number of epochs\n",
        "num_epochs = 10\n",
        "start_epoch = 0  # will update if resuming\n",
        "\n",
        "checkpoint_path = \"/content/drive/MyDrive/resnet50_checkpoint.pth\"\n",
        "\n",
        "# To resume from checkpoint if exists\n",
        "if os.path.exists(checkpoint_path):\n",
        "    print(\"Loading checkpoint...\")\n",
        "    checkpoint = torch.load(checkpoint_path)\n",
        "    model.load_state_dict(checkpoint['model_state_dict'])\n",
        "    optimizer.load_state_dict(checkpoint['optimizer_state_dict'])\n",
        "    start_epoch = checkpoint['epoch']\n",
        "    print(f\"Resuming from epoch {start_epoch}\")\n",
        "\n",
        "for epoch in range(start_epoch, num_epochs):\n",
        "    model.train()\n",
        "    running_loss = 0.0\n",
        "    correct = 0\n",
        "    total = 0\n",
        "\n",
        "    train_bar = tqdm(train_loader, desc=f\"Epoch {epoch+1}/{num_epochs} - Training\", leave=False)\n",
        "    for images, labels in train_bar:\n",
        "        images, labels = images.to(device), labels.to(device)\n",
        "\n",
        "        optimizer.zero_grad()\n",
        "        outputs = model(images)\n",
        "        loss = criterion(outputs, labels)\n",
        "        loss.backward()\n",
        "        optimizer.step()\n",
        "\n",
        "        running_loss += loss.item()\n",
        "        _, predicted = torch.max(outputs, 1)\n",
        "        total += labels.size(0)\n",
        "        correct += (predicted == labels).sum().item()\n",
        "\n",
        "        train_acc = 100 * correct / total\n",
        "        train_bar.set_postfix(loss=running_loss / total, accuracy=f\"{train_acc:.2f}%\")\n",
        "\n",
        "    avg_loss = running_loss / len(train_loader)\n",
        "    train_accuracy = 100 * correct / total\n",
        "\n",
        "    # Validation loop\n",
        "    model.eval()\n",
        "    val_correct = 0\n",
        "    val_total = 0\n",
        "    val_bar = tqdm(val_loader, desc=f\"Epoch {epoch+1}/{num_epochs} - Validation\", leave=False)\n",
        "    with torch.no_grad():\n",
        "        for images, labels in val_bar:\n",
        "            images, labels = images.to(device), labels.to(device)\n",
        "            outputs = model(images)\n",
        "            _, predicted = torch.max(outputs, 1)\n",
        "            val_total += labels.size(0)\n",
        "            val_correct += (predicted == labels).sum().item()\n",
        "\n",
        "            val_acc = 100 * val_correct / val_total\n",
        "            val_bar.set_postfix(accuracy=f\"{val_acc:.2f}%\")\n",
        "\n",
        "    val_accuracy = 100 * val_correct / val_total\n",
        "\n",
        "    print(f\"Epoch [{epoch+1}/{num_epochs}], Loss: {avg_loss:.4f}, \"\n",
        "          f\"Train Acc: {train_accuracy:.2f}%, Val Acc: {val_accuracy:.2f}%\")\n",
        "\n",
        "    # Save checkpoint after each epoch\n",
        "    torch.save({\n",
        "        'epoch': epoch + 1,\n",
        "        'model_state_dict': model.state_dict(),\n",
        "        'optimizer_state_dict': optimizer.state_dict(),\n",
        "        'loss': avg_loss,\n",
        "    }, checkpoint_path)\n",
        "    print(f\"Checkpoint saved at epoch {epoch+1}\")\n"
      ],
      "metadata": {
        "id": "UAK_G18GcIfC",
        "colab": {
          "base_uri": "https://localhost:8080/"
        },
        "outputId": "86a7dab8-dd0b-4dba-bd07-0a732a756c9c"
      },
      "execution_count": null,
      "outputs": [
        {
          "output_type": "stream",
          "name": "stdout",
          "text": [
            "Loading checkpoint...\n",
            "Resuming from epoch 6\n"
          ]
        },
        {
          "output_type": "stream",
          "name": "stderr",
          "text": []
        },
        {
          "output_type": "stream",
          "name": "stdout",
          "text": [
            "Epoch [7/10], Loss: 0.4016, Train Acc: 84.37%, Val Acc: 85.21%\n",
            "Checkpoint saved at epoch 7\n"
          ]
        },
        {
          "output_type": "stream",
          "name": "stderr",
          "text": []
        },
        {
          "output_type": "stream",
          "name": "stdout",
          "text": [
            "Epoch [8/10], Loss: 0.3956, Train Acc: 85.48%, Val Acc: 86.24%\n",
            "Checkpoint saved at epoch 8\n"
          ]
        },
        {
          "output_type": "stream",
          "name": "stderr",
          "text": []
        },
        {
          "output_type": "stream",
          "name": "stdout",
          "text": [
            "Epoch [9/10], Loss: 0.3883, Train Acc: 85.33%, Val Acc: 85.80%\n",
            "Checkpoint saved at epoch 9\n"
          ]
        },
        {
          "output_type": "stream",
          "name": "stderr",
          "text": []
        },
        {
          "output_type": "stream",
          "name": "stdout",
          "text": [
            "Epoch [10/10], Loss: 0.3745, Train Acc: 86.04%, Val Acc: 86.39%\n",
            "Checkpoint saved at epoch 10\n"
          ]
        }
      ]
    },
    {
      "cell_type": "code",
      "source": [
        "# Save the final model weights\n",
        "final_model_path = \"/content/drive/MyDrive/resnet50_final.pth\"\n",
        "torch.save(model.state_dict(), final_model_path)\n",
        "print(f\"Final model saved to {final_model_path}\")\n"
      ],
      "metadata": {
        "colab": {
          "base_uri": "https://localhost:8080/"
        },
        "id": "W3wA23nUNIi7",
        "outputId": "0424e83e-6e13-468b-91a1-8207e0f43d0a"
      },
      "execution_count": null,
      "outputs": [
        {
          "output_type": "stream",
          "name": "stdout",
          "text": [
            "Final model saved to /content/drive/MyDrive/resnet50_final.pth\n"
          ]
        }
      ]
    },
    {
      "cell_type": "code",
      "source": [
        "# Save the entire model\n",
        "full_model_path = \"/content/drive/MyDrive/resnet50_full_model.pth\"\n",
        "torch.save(model, full_model_path)\n",
        "print(f\"Entire model (with architecture) saved to {full_model_path}\")"
      ],
      "metadata": {
        "colab": {
          "base_uri": "https://localhost:8080/"
        },
        "id": "SXh3dcyHNh7U",
        "outputId": "809a8399-23b7-41bd-a162-46f2b2b46911"
      },
      "execution_count": null,
      "outputs": [
        {
          "output_type": "stream",
          "name": "stdout",
          "text": [
            "Entire model (with architecture) saved to /content/drive/MyDrive/resnet50_full_model.pth\n"
          ]
        }
      ]
    },
    {
      "cell_type": "code",
      "source": [
        "# Evaluate the model on test data\n",
        "model.eval()\n",
        "test_correct = 0\n",
        "test_total = 0\n",
        "\n",
        "with torch.no_grad():\n",
        "    for images, labels in test_loader:\n",
        "        images, labels = images.to(device), labels.to(device)\n",
        "        outputs = model(images)\n",
        "        _, predicted = torch.max(outputs, 1)\n",
        "        test_total += labels.size(0)\n",
        "        test_correct += (predicted == labels).sum().item()\n",
        "\n",
        "test_accuracy = 100 * test_correct / test_total\n",
        "print(f\"Test Accuracy: {test_accuracy:.2f}%\")"
      ],
      "metadata": {
        "colab": {
          "base_uri": "https://localhost:8080/"
        },
        "id": "-Q0eI92fNmJc",
        "outputId": "a13fc792-ffe9-4d21-e799-a5aad19080d1"
      },
      "execution_count": null,
      "outputs": [
        {
          "output_type": "stream",
          "name": "stdout",
          "text": [
            "Test Accuracy: 85.31%\n"
          ]
        }
      ]
    }
  ]
}